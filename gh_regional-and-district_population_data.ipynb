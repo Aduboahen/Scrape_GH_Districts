{
 "cells": [
  {
   "cell_type": "code",
   "execution_count": 3,
   "id": "significant-commission",
   "metadata": {},
   "outputs": [],
   "source": [
    "\"\"\"\n",
    "Scrape Ghana Districts data from https://www.citypopulation.de/\n",
    "\"\"\"\n",
    "\n",
    "import requests\n",
    "from lxml import html\n",
    "import pandas as pd"
   ]
  },
  {
   "cell_type": "code",
   "execution_count": 4,
   "id": "unlike-grill",
   "metadata": {},
   "outputs": [],
   "source": [
    "url=\"https://www.citypopulation.de/en/ghana/admin/\"\n",
    "res=requests.get(url)\n",
    "res.raise_for_status()\n",
    "\n",
    "data=html.fromstring(res.content)"
   ]
  },
  {
   "cell_type": "code",
   "execution_count": 5,
   "id": "third-disclosure",
   "metadata": {},
   "outputs": [],
   "source": [
    "regions=[]\n",
    "cen_pop=[]\n",
    "proj_pop=[]"
   ]
  },
  {
   "cell_type": "code",
   "execution_count": 12,
   "id": "brown-repair",
   "metadata": {
    "tags": []
   },
   "outputs": [
    {
     "name": "stdout",
     "output_type": "stream",
     "text": [
      "      Region Population (2010 Census) Projected Population\n",
      "0      Ahafo                  484,210              613,049\n",
      "1    Ashanti                4,780,380            5,924,498\n",
      "2       Bono                  922,617            1,168,807\n",
      "3  Bono East                  904,156            1,133,768\n",
      "4    Central                2,201,863            2,605,492\n"
     ]
    }
   ],
   "source": [
    "r_i=1\n",
    "while r_i < 32:\n",
    "\tregion=data.xpath(f'/html/body/article/table/tbody{[r_i]}/tr/td[1]/a/span/text()' )\n",
    "\tcensus=data.xpath(f'/html/body/article/table/tbody{[r_i]}/tr/td[3]/text()' )\n",
    "\tprojected_pop=data.xpath(f'/html/body/article/table/tbody{[r_i]}/tr/td[4]/text()' )\n",
    "\tregions.append(region[0])\n",
    "\tcen_pop.append(census[0])\n",
    "\tproj_pop.append(projected_pop[0])\n",
    "\tr_i+=2\n",
    "\n",
    "reg_pop = pd.DataFrame(data={'Region':regions, 'Population (2010 Census)':cen_pop, 'Projected Population':proj_pop})\n",
    "print(reg_pop.head())"
   ]
  },
  {
   "cell_type": "code",
   "execution_count": 11,
   "id": "tested-reward",
   "metadata": {
    "collapsed": true,
    "jupyter": {
     "outputs_hidden": true
    },
    "tags": []
   },
   "outputs": [
    {
     "name": "stdout",
     "output_type": "stream",
     "text": [
      "['Asunafo North Municipal', 'Asunafo South', 'Asutifi North', 'Asutifi South', 'Tano North Municipal', 'Tano South Municipal', 'Adansi Asokwa', 'Adansi North', 'Adansi South', 'Afigya Kwabre North', 'Afigya Kwabre South', 'Ahafo Ano North Municipal', 'Ahafo Ano South East', 'Ahafo Ano South West', 'Akrofuom', 'Amansie Central', 'Amansie South', 'Amansie West', 'Asante Akim Central Municipal', 'Asante Akim North', 'Asante Akim South Municipal', 'Asokore Mampong Municipal', 'Asokwa Municipal', 'Atwima Kwanwoma', 'Atwima Mponua', 'Atwima Nwabiagya Municipal', 'Atwima Nwabiagya North', 'Bekwai Municipal', 'Bosome Freho', 'Bosomtwe', 'Ejisu Municipal', 'Ejura-Sekyedumase Municipal', 'Juaben Municipal', 'Kumasi Metropolitan', 'Kwabre East', 'Kwadaso Municipal', 'Mampong Municipal', 'Obuasi East', 'Obuasi Municipal', 'Offinso Municipal', 'Offinso North', 'Oforikrom Municipal', 'Old Tafo Municipal', 'Sekyere Afram Plains', 'Sekyere Central', 'Sekyere East', 'Sekyere Kumawu', 'Sekyere South', 'Suame Municipal', 'Banda', 'Berekum East Municipal', 'Berekum West', 'Dormaa Central Municipal', 'Dormaa East', 'Dormaa West', 'Jaman North', 'Jaman South Municipal', 'Sunyani Municipal', 'Sunyani West', 'Tain', 'Wenchi Municipal', 'Atebubu-Amantin Municipal', 'Kintampo North Municipal', 'Kintampo South', 'Nkoranza North', 'Nkoranza South Municipal', 'Pru East', 'Pru West', 'Sene East', 'Sene West', 'Techiman Municipal', 'Techiman North', 'Abura-Asebu-Kwamankese', 'Agona East', 'Agona West Municipal', 'Ajumako-Enyan-Essiam', 'Asikuma-Odoben-Brakwa', 'Assin Central Municipal', 'Assin North', 'Assin South', 'Awutu Senya East Municipal', 'Awutu Senya West', 'Cape Coast Metropolitan', 'Effutu Municipal', 'Ekumfi', 'Gomoa Central', 'Gomoa East', 'Gomoa West', 'Komenda-Edina-Egyafo-Abirem Municipal', 'Mfantseman Municipal', 'Twifo-Ati Morkwa', 'Twifo-Heman-Lower Denkyira', 'Upper Denkyira East Municipal', 'Upper Denkyira West', 'Abuakwa North Municipal', 'Abuakwa South Municipal', 'Achiase', 'Akwapim North Municipal', 'Akwapim South', 'Akyemansa', 'Asene Manso-Akroso', 'Asuogyaman', 'Atiwa East', 'Atiwa West', 'Ayensuano', 'Birim Central Municipal', 'Birim North', 'Birim South', 'Denkyembour', 'Fanteakwa North', 'Fanteakwa South', 'Kwaebibirem Municipal', 'Kwahu Afram Plains North', 'Kwahu Afram Plains South', 'Kwahu East', 'Kwahu South', 'Kwahu West Municipal', 'Lower Manya Krobo Municipal', 'New Juaben North Municipal', 'New Juaben South Municipal', 'Nsawam Adoagyiri Municipal', 'Okere', 'Suhum Municipal', 'Upper Manya Krobo', 'Upper West Akim', 'West Akim Municipal', 'Yilo Krobo Municipal', 'Ablekuma Central Municipal', 'Ablekuma North Municipal', 'Ablekuma West Municipal', 'Accra Metropolitan', 'Ada East', 'Ada West', 'Adenta Municipal', 'Ashaiman Municipal', 'Ayawaso Central Municipal', 'Ayawaso East Municipal', 'Ayawaso North Municipal', 'Ayawaso West Municipal', 'Ga Central Municipal', 'Ga East Municipal', 'Ga North Municipal', 'Ga South Municipal', 'Ga West Municipal', 'Korle-Klottey Municipal', 'Kpone Katamanso Municipal', 'Krowor Municipal', 'La Dade-Kotopon Municipal', 'La Nkwantanang Madina Municipal', 'Ledzokuku Municipal', 'Ningo Prampram', 'Okaikwei North Municipal', 'Shai Osudoku', 'Tema Metropolitan', 'Tema West Municipal', 'Weija-Gbawe Municipal', 'Bunkpurugu-Nyakpanduri', 'Chereponi', 'East Mamprusi Municipal', 'Mamprugu Moagduri', 'West Mamprusi Municipal', 'Yunyoo-Nasuan', 'Gushiegu Municipal', 'Karaga', 'Kpandai', 'Kumbungu', 'Mion', 'Nanton', 'Nanumba North Municipal', 'Nanumba South', 'Saboba', 'Sagnarigu Municipal', 'Savelugu Municipal', 'Tamale Metropolitan', 'Tatale-Sanguli', 'Tolon', 'Yendi Municipal', 'Zabzugu', 'Biakoye', 'Jasikan', 'Kadjebi', 'Krachi East Municipal', 'Krachi Nchumuru', 'Krachi West', 'Nkwanta North', 'Nkwanta South Municipal', 'Bole', 'Central Gonja', 'East Gonja Municipal', 'North East Gonja', 'North Gonja', 'Sawla-Tuna-Kalba', 'West Gonja', 'Bawku Municipal', 'Bawku West', 'Binduri', 'Bolgatanga East', 'Bolgatanga Municipal', 'Bongo', 'Builsa North Municipal', 'Builsa South', 'Garu', 'Kassena Nankana Municipal', 'Kassena Nankana West', 'Nabdam', 'Pusiga', 'Talensi', 'Tempane', 'Daffiama-Bussie-Issa', 'Jirapa Municipal', 'Lambussie Karni', 'Lawra Municipal', 'Nadowli-Kaleo', 'Nandom', 'Sissala East Municipal', 'Sissala West', 'Wa East', 'Wa Municipal', 'Wa West', 'Adaklu', 'Afadzato South', 'Agotime Ziope', 'Akatsi North', 'Akatsi South', 'Anloga', 'Central Tongu', 'Hohoe Municipal', 'Ho Municipal', 'Ho West', 'Keta Municipal', 'Ketu North Municipal', 'Ketu South Municipal', 'Kpando Municipal', 'North Dayi', 'North Tongu', 'South Dayi', 'South Tongu', 'Ahanta West Municipal', 'Effia-Kwesimintsim Municipal', 'Ellembelle', 'Jomoro Municipal', 'Mpohor', 'Nzema East Municipal', 'Prestea-Huni Valley Municipal', 'Sekondi Takoradi Metropolitan', 'Shama', 'Tarkwa Nsuaem Municipal', 'Wassa Amenfi Central', 'Wassa Amenfi East Municipal', 'Wassa Amenfi West Municipal', 'Wassa East', 'Aowin Municipal', 'Bia East', 'Bia West', 'Bibiani-Ahwiaso-Bekwai Municipal', 'Bodi', 'Juabeso', 'Sefwi Akontombra', 'Sefwi Wiawso Municipal', 'Suaman']\n"
     ]
    }
   ],
   "source": [
    "districts=[]\n",
    "dbi=2\n",
    "while dbi<33:\n",
    "    district=data.xpath(f'/html/body/article/table/tbody{[dbi]}/tr/td/a/span/text()')\n",
    "    for dist in district:\n",
    "        districts.append(dist)\n",
    "    dbi+=2\n",
    "    \n",
    "print(districts)"
   ]
  },
  {
   "cell_type": "code",
   "execution_count": 16,
   "id": "golden-curtis",
   "metadata": {
    "collapsed": true,
    "jupyter": {
     "outputs_hidden": true
    },
    "tags": []
   },
   "outputs": [
    {
     "name": "stdout",
     "output_type": "stream",
     "text": [
      "['124,685', '95,580', '52,259', '53,584', '79,973', '78,129', '67,133', '39,958', '40,523', '41,593', '94,547', '94,285', '58,962', '62,697', '74,855', '90,741', '60,227', '74,104', '71,508', '69,186', '117,245', '304,815', '140,161', '90,634', '119,180', '85,994', '63,031', '118,024', '60,397', '93,910', '95,424', '85,446', '48,338', '728,634', '115,556', '251,215', '88,051', '76,004', '92,637', '76,895', '56,881', '303,016', '146,024', '28,535', '71,232', '62,172', '65,402', '94,009', '161,199', '20,282', '92,847', '36,781', '112,111', '50,871', '47,678', '83,059', '92,649', '123,224', '85,272', '88,104', '89,739', '105,938', '95,480', '81,000', '65,895', '100,929', '72,799', '56,449', '61,076', '57,734', '147,788', '59,068', '117,185', '85,920', '115,358', '138,046', '129,580', '76,525', '67,942', '104,244', '108,422', '86,884', '169,894', '68,597', '52,231', '138,790', '68,281', '135,189', '144,705', '144,332', '61,743', '55,131', '72,810', '60,054', '89,548', '78,348', '73,216', '75,771', '37,501', '97,374', '76,876', '98,046', '49,636', '60,986', '77,193', '67,993', '78,907', '46,551', '78,841', '59,430', '49,184', '113,721', '102,423', '115,812', '77,125', '69,757', '93,584', '89,246', '58,735', '124,992', '86,000', '60,712', '90,358', '72,092', '87,051', '108,298', '87,847', '233,220', '184,731', '59,708', '440,946', '71,671', '59,124', '78,215', '190,972', '142,322', '83,721', '99,777', '70,667', '117,220', '147,742', '103,965', '234,191', '101,386', '121,723', '109,864', '102,059', '183,528', '111,926', '125,873', '70,923', '228,271', '51,913', '168,932', '123,841', '191,623', '69,786', '53,394', '121,009', '46,894', '121,117', '52,805', '111,259', '77,706', '108,816', '39,341', '81,812', '46,566', '141,584', '93,464', '65,706', '148,099', '92,717', '223,252', '60,039', '72,990', '117,780', '63,815', '65,901', '59,181', '59,303', '116,804', '72,688', '49,417', '64,553', '117,878', '61,593', '87,877', '105,702', '29,748', '43,547', '99,863', '41,180', '98,538', '94,034', '61,576', '28,254', '103,296', '84,545', '56,477', '36,514', '58,362', '109,944', '70,667', '33,826', '57,677', '81,194', '71,641', '32,827', '88,402', '51,654', '54,889', '61,561', '46,040', '56,528', '49,573', '72,074', '107,214', '81,348', '36,391', '95,030', '28,013', '29,777', '98,684', '82,686', '59,411', '167,016', '177,281', '94,600', '64,932', '99,913', '160,756', '53,736', '39,913', '89,777', '46,661', '87,950', '106,215', '232,617', '87,501', '150,107', '42,923', '60,828', '159,304', '326,931', '81,966', '90,477', '69,014', '83,478', '92,152', '81,073', '117,886', '27,393', '88,939', '123,272', '53,314', '58,435', '82,467', '139,200', '20,529']\n"
     ]
    }
   ],
   "source": [
    "dist_cen_pop=[]\n",
    "dbi=2\n",
    "while dbi<33:\n",
    "    census=data.xpath(f'/html/body/article/table/tbody{[dbi]}/tr/td[3]/text()')\n",
    "    for popn in census:\n",
    "        dist_cen_pop.append(popn)\n",
    "    dbi+=2\n",
    "    \n",
    "print(dist_cen_pop)"
   ]
  },
  {
   "cell_type": "code",
   "execution_count": 19,
   "id": "danish-render",
   "metadata": {
    "collapsed": true,
    "jupyter": {
     "outputs_hidden": true
    },
    "tags": []
   },
   "outputs": [
    {
     "name": "stdout",
     "output_type": "stream",
     "text": [
      "['157,870', '120,976', '66,141', '67,763', '101,305', '98,994', '83,243', '49,522', '50,268', '51,560', '117,179', '116,936', '73,121', '77,760', '92,804', '112,508', '74,666', '91,905', '88,597', '85,753', '145,349', '377,697', '173,665', '112,321', '147,829', '106,569', '78,113', '146,213', '74,870', '116,360', '118,217', '105,952', '59,915', '902,724', '143,180', '311,242', '109,125', '94,182', '114,795', '95,292', '70,522', '375,651', '180,928', '35,416', '88,307', '77,030', '81,029', '116,477', '199,706', '25,717', '117,537', '46,564', '141,999', '64,419', '60,467', '105,210', '117,315', '156,186', '108,031', '111,650', '113,712', '132,818', '119,762', '101,494', '82,622', '126,593', '91,278', '70,746', '76,506', '72,383', '185,450', '74,116', '138,623', '101,674', '136,443', '163,250', '153,387', '90,637', '80,534', '123,440', '128,332', '102,772', '201,168', '81,178', '61,747', '164,304', '80,694', '159,680', '171,278', '170,509', '73,119', '65,316', '86,233', '71,174', '112,856', '98,756', '92,276', '95,484', '47,265', '122,734', '96,888', '123,568', '62,563', '76,871', '97,300', '85,689', '99,464', '58,672', '99,374', '74,911', '61,994', '143,336', '129,135', '146,026', '97,208', '87,912', '117,945', '112,464', '74,025', '157,534', '108,400', '76,512', '113,885', '90,877', '109,722', '136,492', '110,715', '294,022', '232,877', '75,254', '555,767', '90,336', '74,544', '98,682', '240,841', '179,422', '105,546', '125,789', '89,225', '147,820', '186,342', '131,129', '295,344', '127,841', '153,452', '138,529', '128,675', '231,306', '141,124', '158,659', '89,387', '287,820', '65,461', '212,926', '156,134', '241,629', '88,365', '67,609', '153,225', '59,378', '153,361', '66,862', '140,368', '98,046', '137,249', '49,626', '103,202', '58,754', '178,608', '117,895', '82,891', '186,796', '116,975', '281,619', '75,738', '92,072', '148,567', '80,507', '82,677', '74,281', '74,386', '146,402', '91,179', '61,960', '80,987', '147,927', '78,010', '111,318', '133,805', '37,681', '55,169', '126,569', '52,160', '122,641', '117,036', '76,641', '35,168', '128,548', '105,206', '70,321', '45,469', '72,634', '136,875', '87,987', '42,126', '71,779', '101,132', '89,155', '40,606', '109,308', '63,889', '67,886', '76,114', '56,947', '69,923', '61,322', '89,194', '132,646', '100,644', '45,962', '120,004', '35,360', '37,517', '124,357', '104,262', '74,908', '210,769', '223,614', '119,389', '81,810', '125,956', '202,734', '67,831', '50,321', '113,245', '58,863', '110,777', '141,344', '309,514', '116,435', '199,725', '57,103', '80,933', '211,918', '435,009', '109,087', '120,344', '91,790', '111,036', '122,573', '107,849', '157,159', '36,505', '118,618', '164,652', '71,133', '77,963', '109,868', '185,826', '27,370']\n"
     ]
    }
   ],
   "source": [
    "dist_proj_pop=[]\n",
    "dbi=2\n",
    "while dbi<33:\n",
    "    proj_pop=data.xpath(f'/html/body/article/table/tbody{[dbi]}/tr/td[4]/text()')\n",
    "    for popn in proj_pop:\n",
    "        dist_proj_pop.append(popn)\n",
    "    dbi+=2\n",
    "    \n",
    "print(dist_proj_pop)"
   ]
  },
  {
   "cell_type": "code",
   "execution_count": 23,
   "id": "greater-strategy",
   "metadata": {
    "collapsed": true,
    "jupyter": {
     "outputs_hidden": true
    },
    "tags": []
   },
   "outputs": [
    {
     "name": "stdout",
     "output_type": "stream",
     "text": [
      "['Municipal District', 'District', 'District', 'District', 'Municipal District', 'Municipal District', 'District', 'District', 'District', 'District', 'District', 'Municipal District', 'District', 'District', 'District', 'District', 'District', 'District', 'Municipal District', 'District', 'Municipal District', 'Municipal District', 'Municipal District', 'District', 'District', 'Municipal District', 'District', 'Municipal District', 'District', 'District', 'Municipal District', 'Municipal District', 'Municipal District', 'Metropolitan District', 'District', 'Municipal District', 'Municipal District', 'District', 'Municipal District', 'Municipal District', 'District', 'Municipal District', 'Municipal District', 'District', 'District', 'District', 'District', 'District', 'Municipal District', 'District', 'Municipal District', 'District', 'Municipal District', 'District', 'District', 'District', 'Municipal District', 'Municipal District', 'District', 'District', 'Municipal District', 'Municipal District', 'Municipal District', 'District', 'District', 'Municipal District', 'District', 'District', 'District', 'District', 'Municipal District', 'District', 'District', 'District', 'Municipal District', 'District', 'District', 'Municipal District', 'District', 'District', 'Municipal District', 'District', 'Metropolitan District', 'Municipal District', 'District', 'District', 'District', 'District', 'Municipal District', 'Municipal District', 'District', 'District', 'Municipal District', 'District', 'Municipal District', 'Municipal District', 'District', 'Municipal District', 'District', 'District', 'District', 'District', 'District', 'District', 'District', 'Municipal District', 'District', 'District', 'District', 'District', 'District', 'Municipal District', 'District', 'District', 'District', 'District', 'Municipal District', 'Municipal District', 'Municipal District', 'Municipal District', 'Municipal District', 'District', 'Municipal District', 'District', 'District', 'Municipal District', 'Municipal District', 'Municipal District', 'Municipal District', 'Municipal District', 'Metropolitan Area', 'District', 'District', 'Municipal District', 'Municipal District', 'Municipal District', 'Municipal District', 'Municipal District', 'Municipal District', 'Municipal District', 'Municipal District', 'Municipal District', 'Municipal District', 'Municipal District', 'Municipal District', 'Municipal District', 'Municipal District', 'Municipal District', 'Municipal District', 'Municipal District', 'District', 'Municipal District', 'District', 'Metropolitan District', 'Municipal District', 'Municipal District', 'District', 'District', 'Municipal District', 'District', 'Municipal District', 'District', 'Municipal District', 'District', 'District', 'District', 'District', 'District', 'Municipal District', 'District', 'District', 'Municipal District', 'Municipal District', 'Metropolitan District', 'District', 'District', 'Municipal District', 'District', 'District', 'District', 'District', 'Municipal District', 'District', 'District', 'District', 'Municipal District', 'District', 'District', 'Municipal District', 'District', 'District', 'District', 'District', 'Municipal District', 'District', 'District', 'District', 'Municipal District', 'District', 'Municipal District', 'District', 'District', 'Municipal District', 'District', 'District', 'District', 'District', 'District', 'District', 'Municipal District', 'District', 'Municipal District', 'District', 'District', 'Municipal District', 'District', 'District', 'Municipal District', 'District', 'District', 'District', 'District', 'District', 'District', 'District', 'District', 'Municipal District', 'Municipal District', 'District', 'Municipal District', 'Municipal District', 'Municipal District', 'Municipal District', 'District', 'District', 'District', 'District', 'Municipal District', 'Municipal District', 'District', 'Municipal District', 'District', 'Municipal District', 'Municipal District', 'Metropolitan District', 'District', 'Municipal District', 'District', 'Municipal District', 'Municipal District', 'District', 'Municipal District', 'District', 'District', 'Municipal District', 'District', 'District', 'District', 'Municipal District', 'District']\n"
     ]
    }
   ],
   "source": [
    "status=[]\n",
    "dbi=2\n",
    "while dbi<33:\n",
    "    dist_type=data.xpath(f'/html/body/article/table/tbody{[dbi]}/tr/td[2]/text()')\n",
    "    for name in dist_type:\n",
    "        status.append(name)\n",
    "    dbi+=2\n",
    "    \n",
    "print(status)"
   ]
  },
  {
   "cell_type": "code",
   "execution_count": 24,
   "id": "powerful-average",
   "metadata": {},
   "outputs": [
    {
     "name": "stdout",
     "output_type": "stream",
     "text": [
      "    District/Municipal/Metropolitan              Status  \\\n",
      "0           Asunafo North Municipal  Municipal District   \n",
      "1                     Asunafo South            District   \n",
      "2                     Asutifi North            District   \n",
      "3                     Asutifi South            District   \n",
      "4              Tano North Municipal  Municipal District   \n",
      "..                              ...                 ...   \n",
      "255                            Bodi            District   \n",
      "256                         Juabeso            District   \n",
      "257                Sefwi Akontombra            District   \n",
      "258          Sefwi Wiawso Municipal  Municipal District   \n",
      "259                          Suaman            District   \n",
      "\n",
      "    Population (2010 Census) Projected Population  \n",
      "0                    124,685              157,870  \n",
      "1                     95,580              120,976  \n",
      "2                     52,259               66,141  \n",
      "3                     53,584               67,763  \n",
      "4                     79,973              101,305  \n",
      "..                       ...                  ...  \n",
      "255                   53,314               71,133  \n",
      "256                   58,435               77,963  \n",
      "257                   82,467              109,868  \n",
      "258                  139,200              185,826  \n",
      "259                   20,529               27,370  \n",
      "\n",
      "[260 rows x 4 columns]\n"
     ]
    }
   ],
   "source": [
    "dist_pop=pd.DataFrame(data={'District/Municipal/Metropolitan':districts, 'Status':status, 'Population (2010 Census)':dist_cen_pop, 'Projected Population':dist_proj_pop})\n",
    "print(dist_pop)                                                   "
   ]
  }
 ],
 "metadata": {
  "kernelspec": {
   "display_name": "Python 3",
   "language": "python",
   "name": "python3"
  },
  "language_info": {
   "codemirror_mode": {
    "name": "ipython",
    "version": 3
   },
   "file_extension": ".py",
   "mimetype": "text/x-python",
   "name": "python",
   "nbconvert_exporter": "python",
   "pygments_lexer": "ipython3",
   "version": "3.8.5"
  }
 },
 "nbformat": 4,
 "nbformat_minor": 5
}
