{
 "cells": [
  {
   "cell_type": "code",
   "execution_count": 307,
   "metadata": {
    "tags": []
   },
   "outputs": [],
   "source": [
    "\"\"\"\n",
    "Scrape Ghana Districts data from https://www.citypopulation.de/\n",
    "\"\"\"\n",
    "import bs4\n",
    "import requests\n",
    "from lxml import html\n",
    "import pandas as pd\n",
    "#import matplotlib.pyplot as plt\n",
    "#import seaborn as sns\n",
    "#sns.set(rc={'figure.figsize':(20,16)})\n",
    "#ns.set_theme(style='darkgrid')"
   ]
  },
  {
   "cell_type": "code",
   "execution_count": 308,
   "metadata": {},
   "outputs": [],
   "source": [
    "#get web data\n",
    "\n",
    "#link for web data\n",
    "url=\"https://www.citypopulation.de/en/ghana/admin/\"\n",
    "\n",
    "res=requests.get(url)\n",
    "res.raise_for_status() #check if link is valid"
   ]
  },
  {
   "cell_type": "markdown",
   "metadata": {},
   "source": [
    "<h1><b>BEAUTIFULSOUP</b></h1>"
   ]
  },
  {
   "cell_type": "code",
   "execution_count": 309,
   "metadata": {},
   "outputs": [],
   "source": [
    "#parse web data using bs4\n",
    "\n",
    "data=bs4.BeautifulSoup(res.content, 'html.parser')"
   ]
  },
  {
   "cell_type": "code",
   "execution_count": 310,
   "metadata": {},
   "outputs": [],
   "source": [
    "# get table columns which should be marked with table head tag 'th'\n",
    "\n",
    "head = data.find_all('th')\n",
    "\n",
    "columns=[]\n",
    "\n",
    "for td in head:\n",
    "    columns.append(td.text)\n",
    "\n",
    "columns=columns[:4]\n",
    "#print(columns)"
   ]
  },
  {
   "cell_type": "code",
   "execution_count": 319,
   "metadata": {},
   "outputs": [],
   "source": [
    "body = data.find_all('tbody')\n",
    "\n",
    "\n",
    "body_rows=[]\n",
    "\n",
    "for tr in body:\n",
    "    td = tr.find_all(['th', 'td'])\n",
    "    row = [i.text for i in td]\n",
    "    body_rows.append(row)\n",
    "body_rows = body_rows[:len(body_rows)-4]\n",
    "#print(body_rows)"
   ]
  },
  {
   "cell_type": "code",
   "execution_count": 312,
   "metadata": {},
   "outputs": [],
   "source": [
    "regions = []\n",
    "i = 0\n",
    "while i < len(body_rows):\n",
    "    regions.append(body_rows[i])\n",
    "    i+=2\n",
    "\n",
    "#print(regions) "
   ]
  },
  {
   "cell_type": "code",
   "execution_count": 313,
   "metadata": {},
   "outputs": [],
   "source": [
    "regcolumns=columns.copy()\n",
    "regcolumns.append('Misc')"
   ]
  },
  {
   "cell_type": "code",
   "execution_count": 314,
   "metadata": {
    "collapsed": true,
    "jupyter": {
     "outputs_hidden": true
    }
   },
   "outputs": [
    {
     "data": {
      "text/html": [
       "<div>\n",
       "<style scoped>\n",
       "    .dataframe tbody tr th:only-of-type {\n",
       "        vertical-align: middle;\n",
       "    }\n",
       "\n",
       "    .dataframe tbody tr th {\n",
       "        vertical-align: top;\n",
       "    }\n",
       "\n",
       "    .dataframe thead th {\n",
       "        text-align: right;\n",
       "    }\n",
       "</style>\n",
       "<table border=\"1\" class=\"dataframe\">\n",
       "  <thead>\n",
       "    <tr style=\"text-align: right;\">\n",
       "      <th></th>\n",
       "      <th>Region</th>\n",
       "      <th>Census</th>\n",
       "      <th>Projected</th>\n",
       "    </tr>\n",
       "  </thead>\n",
       "  <tbody>\n",
       "    <tr>\n",
       "      <th>0</th>\n",
       "      <td>Ahafo (← Brong Ahafo)</td>\n",
       "      <td>484,210</td>\n",
       "      <td>613,049</td>\n",
       "    </tr>\n",
       "    <tr>\n",
       "      <th>1</th>\n",
       "      <td>Ashanti</td>\n",
       "      <td>4,780,380</td>\n",
       "      <td>5,924,498</td>\n",
       "    </tr>\n",
       "    <tr>\n",
       "      <th>2</th>\n",
       "      <td>Bono (← Brong Ahafo)</td>\n",
       "      <td>922,617</td>\n",
       "      <td>1,168,807</td>\n",
       "    </tr>\n",
       "    <tr>\n",
       "      <th>3</th>\n",
       "      <td>Bono East (← Brong Ahafo)</td>\n",
       "      <td>904,156</td>\n",
       "      <td>1,133,768</td>\n",
       "    </tr>\n",
       "    <tr>\n",
       "      <th>4</th>\n",
       "      <td>Central</td>\n",
       "      <td>2,201,863</td>\n",
       "      <td>2,605,492</td>\n",
       "    </tr>\n",
       "    <tr>\n",
       "      <th>5</th>\n",
       "      <td>Eastern</td>\n",
       "      <td>2,633,154</td>\n",
       "      <td>3,318,853</td>\n",
       "    </tr>\n",
       "    <tr>\n",
       "      <th>6</th>\n",
       "      <td>Greater Accra</td>\n",
       "      <td>4,010,054</td>\n",
       "      <td>5,055,883</td>\n",
       "    </tr>\n",
       "    <tr>\n",
       "      <th>7</th>\n",
       "      <td>North East (← Northern)</td>\n",
       "      <td>465,005</td>\n",
       "      <td>588,800</td>\n",
       "    </tr>\n",
       "    <tr>\n",
       "      <th>8</th>\n",
       "      <td>Northern</td>\n",
       "      <td>1,544,946</td>\n",
       "      <td>1,948,913</td>\n",
       "    </tr>\n",
       "    <tr>\n",
       "      <th>9</th>\n",
       "      <td>Oti (← Volta)</td>\n",
       "      <td>605,725</td>\n",
       "      <td>759,799</td>\n",
       "    </tr>\n",
       "    <tr>\n",
       "      <th>10</th>\n",
       "      <td>Savannah (← Northern)</td>\n",
       "      <td>469,510</td>\n",
       "      <td>594,712</td>\n",
       "    </tr>\n",
       "    <tr>\n",
       "      <th>11</th>\n",
       "      <td>Upper East</td>\n",
       "      <td>1,046,545</td>\n",
       "      <td>1,302,718</td>\n",
       "    </tr>\n",
       "    <tr>\n",
       "      <th>12</th>\n",
       "      <td>Upper West</td>\n",
       "      <td>702,110</td>\n",
       "      <td>868,479</td>\n",
       "    </tr>\n",
       "    <tr>\n",
       "      <th>13</th>\n",
       "      <td>Volta</td>\n",
       "      <td>1,512,527</td>\n",
       "      <td>1,907,679</td>\n",
       "    </tr>\n",
       "    <tr>\n",
       "      <th>14</th>\n",
       "      <td>Western</td>\n",
       "      <td>1,664,586</td>\n",
       "      <td>2,214,660</td>\n",
       "    </tr>\n",
       "    <tr>\n",
       "      <th>15</th>\n",
       "      <td>Western North (← Western)</td>\n",
       "      <td>711,435</td>\n",
       "      <td>949,094</td>\n",
       "    </tr>\n",
       "  </tbody>\n",
       "</table>\n",
       "</div>"
      ],
      "text/plain": [
       "                       Region     Census  Projected\n",
       "0       Ahafo (← Brong Ahafo)    484,210    613,049\n",
       "1                     Ashanti  4,780,380  5,924,498\n",
       "2        Bono (← Brong Ahafo)    922,617  1,168,807\n",
       "3   Bono East (← Brong Ahafo)    904,156  1,133,768\n",
       "4                     Central  2,201,863  2,605,492\n",
       "5                     Eastern  2,633,154  3,318,853\n",
       "6               Greater Accra  4,010,054  5,055,883\n",
       "7     North East (← Northern)    465,005    588,800\n",
       "8                    Northern  1,544,946  1,948,913\n",
       "9               Oti (← Volta)    605,725    759,799\n",
       "10      Savannah (← Northern)    469,510    594,712\n",
       "11                 Upper East  1,046,545  1,302,718\n",
       "12                 Upper West    702,110    868,479\n",
       "13                      Volta  1,512,527  1,907,679\n",
       "14                    Western  1,664,586  2,214,660\n",
       "15  Western North (← Western)    711,435    949,094"
      ]
     },
     "execution_count": 314,
     "metadata": {},
     "output_type": "execute_result"
    }
   ],
   "source": [
    "df = pd.DataFrame(regions, columns=regcolumns)\n",
    "df = df.drop(df[['Misc', 'Status']],axis=1)\n",
    "df.columns = ['Region', 'Census', 'Projected']\n",
    "df"
   ]
  },
  {
   "cell_type": "code",
   "execution_count": 325,
   "metadata": {},
   "outputs": [
    {
     "name": "stdout",
     "output_type": "stream",
     "text": [
      "16\n"
     ]
    }
   ],
   "source": [
    "district_row = []\n",
    "\n",
    "i = 1\n",
    "while i < len(body_rows):\n",
    "    district_row.append(body_rows[i])\n",
    "    i+=2\n",
    "print(len(district_row))"
   ]
  },
  {
   "cell_type": "code",
   "execution_count": 331,
   "metadata": {},
   "outputs": [],
   "source": [
    "district = []\n",
    "status = []\n",
    "census = []\n",
    "projected = []"
   ]
  },
  {
   "cell_type": "code",
   "execution_count": 332,
   "metadata": {},
   "outputs": [
    {
     "name": "stdout",
     "output_type": "stream",
     "text": [
      "260\n"
     ]
    }
   ],
   "source": [
    "for row in district_row:\n",
    "    j=0\n",
    "    while j < len(row):\n",
    "        district.append(row[j])\n",
    "        j+=5\n",
    "#print(len(district))"
   ]
  },
  {
   "cell_type": "code",
   "execution_count": 333,
   "metadata": {},
   "outputs": [
    {
     "name": "stdout",
     "output_type": "stream",
     "text": [
      "260\n"
     ]
    }
   ],
   "source": [
    "for row in district_row:\n",
    "    j=1\n",
    "    while j < len(row):\n",
    "        status.append(row[j])\n",
    "        j+=5\n",
    "#print(len(status))"
   ]
  },
  {
   "cell_type": "code",
   "execution_count": 334,
   "metadata": {},
   "outputs": [
    {
     "name": "stdout",
     "output_type": "stream",
     "text": [
      "260\n"
     ]
    }
   ],
   "source": [
    "for row in district_row:\n",
    "    j=2\n",
    "    while j < len(row):\n",
    "        census.append(row[j])\n",
    "        j+=5\n",
    "#print(len(census))"
   ]
  },
  {
   "cell_type": "code",
   "execution_count": 335,
   "metadata": {},
   "outputs": [
    {
     "name": "stdout",
     "output_type": "stream",
     "text": [
      "260\n"
     ]
    }
   ],
   "source": [
    "for row in district_row:\n",
    "    j=3\n",
    "    while j < len(row):\n",
    "        projected.append(row[j]) \n",
    "        j+=5\n",
    "#print(len(projected))"
   ]
  },
  {
   "cell_type": "code",
   "execution_count": 336,
   "metadata": {},
   "outputs": [
    {
     "data": {
      "text/html": [
       "<div>\n",
       "<style scoped>\n",
       "    .dataframe tbody tr th:only-of-type {\n",
       "        vertical-align: middle;\n",
       "    }\n",
       "\n",
       "    .dataframe tbody tr th {\n",
       "        vertical-align: top;\n",
       "    }\n",
       "\n",
       "    .dataframe thead th {\n",
       "        text-align: right;\n",
       "    }\n",
       "</style>\n",
       "<table border=\"1\" class=\"dataframe\">\n",
       "  <thead>\n",
       "    <tr style=\"text-align: right;\">\n",
       "      <th></th>\n",
       "      <th>District</th>\n",
       "      <th>Status</th>\n",
       "      <th>Census</th>\n",
       "      <th>Projected</th>\n",
       "    </tr>\n",
       "  </thead>\n",
       "  <tbody>\n",
       "    <tr>\n",
       "      <th>0</th>\n",
       "      <td>Asunafo North Municipal</td>\n",
       "      <td>Municipal District</td>\n",
       "      <td>124685</td>\n",
       "      <td>157870</td>\n",
       "    </tr>\n",
       "    <tr>\n",
       "      <th>1</th>\n",
       "      <td>Asunafo South</td>\n",
       "      <td>District</td>\n",
       "      <td>95580</td>\n",
       "      <td>120976</td>\n",
       "    </tr>\n",
       "    <tr>\n",
       "      <th>2</th>\n",
       "      <td>Asutifi North</td>\n",
       "      <td>District</td>\n",
       "      <td>52259</td>\n",
       "      <td>66141</td>\n",
       "    </tr>\n",
       "    <tr>\n",
       "      <th>3</th>\n",
       "      <td>Asutifi South</td>\n",
       "      <td>District</td>\n",
       "      <td>53584</td>\n",
       "      <td>67763</td>\n",
       "    </tr>\n",
       "    <tr>\n",
       "      <th>4</th>\n",
       "      <td>Tano North Municipal</td>\n",
       "      <td>Municipal District</td>\n",
       "      <td>79973</td>\n",
       "      <td>101305</td>\n",
       "    </tr>\n",
       "    <tr>\n",
       "      <th>...</th>\n",
       "      <td>...</td>\n",
       "      <td>...</td>\n",
       "      <td>...</td>\n",
       "      <td>...</td>\n",
       "    </tr>\n",
       "    <tr>\n",
       "      <th>255</th>\n",
       "      <td>Bodi</td>\n",
       "      <td>District</td>\n",
       "      <td>53314</td>\n",
       "      <td>71133</td>\n",
       "    </tr>\n",
       "    <tr>\n",
       "      <th>256</th>\n",
       "      <td>Juabeso</td>\n",
       "      <td>District</td>\n",
       "      <td>58435</td>\n",
       "      <td>77963</td>\n",
       "    </tr>\n",
       "    <tr>\n",
       "      <th>257</th>\n",
       "      <td>Sefwi Akontombra</td>\n",
       "      <td>District</td>\n",
       "      <td>82467</td>\n",
       "      <td>109868</td>\n",
       "    </tr>\n",
       "    <tr>\n",
       "      <th>258</th>\n",
       "      <td>Sefwi Wiawso Municipal</td>\n",
       "      <td>Municipal District</td>\n",
       "      <td>139200</td>\n",
       "      <td>185826</td>\n",
       "    </tr>\n",
       "    <tr>\n",
       "      <th>259</th>\n",
       "      <td>Suaman</td>\n",
       "      <td>District</td>\n",
       "      <td>20529</td>\n",
       "      <td>27370</td>\n",
       "    </tr>\n",
       "  </tbody>\n",
       "</table>\n",
       "<p>260 rows × 4 columns</p>\n",
       "</div>"
      ],
      "text/plain": [
       "                    District              Status  Census  Projected\n",
       "0    Asunafo North Municipal  Municipal District  124685     157870\n",
       "1              Asunafo South            District   95580     120976\n",
       "2              Asutifi North            District   52259      66141\n",
       "3              Asutifi South            District   53584      67763\n",
       "4       Tano North Municipal  Municipal District   79973     101305\n",
       "..                       ...                 ...     ...        ...\n",
       "255                     Bodi            District   53314      71133\n",
       "256                  Juabeso            District   58435      77963\n",
       "257         Sefwi Akontombra            District   82467     109868\n",
       "258   Sefwi Wiawso Municipal  Municipal District  139200     185826\n",
       "259                   Suaman            District   20529      27370\n",
       "\n",
       "[260 rows x 4 columns]"
      ]
     },
     "execution_count": 336,
     "metadata": {},
     "output_type": "execute_result"
    }
   ],
   "source": [
    "df=pd.DataFrame(data={'District':district, 'Status':status, 'Census':census, 'Projected':projected})\n",
    "df.replace(',','',regex=True,inplace=True)\n",
    "df[['Census', 'Projected']]=dist_pop[['Census','Projected']].astype('int64')\n",
    "df"
   ]
  },
  {
   "cell_type": "markdown",
   "metadata": {},
   "source": [
    "<h1><b>LXML</b></h1>"
   ]
  },
  {
   "cell_type": "markdown",
   "metadata": {},
   "source": [
    "<h2><b>REGIONAL DATA</b></h2>"
   ]
  },
  {
   "cell_type": "code",
   "execution_count": 212,
   "metadata": {
    "tags": []
   },
   "outputs": [
    {
     "name": "stdout",
     "output_type": "stream",
     "text": [
      "['Ahafo', 'Ashanti', 'Bono', 'Bono East', 'Central', 'Eastern', 'Greater Accra', 'North East', 'Northern', 'Oti', 'Savannah', 'Upper East', 'Upper West', 'Volta', 'Western', 'Western North']\n"
     ]
    }
   ],
   "source": [
    "#scrape using xpath(get this from inspecting the page and copying the full xpath\n",
    "regions=[] \n",
    "cen_pop=[]\n",
    "proj_pop=[]\n",
    "area_size=[]\n",
    "\n",
    "r_i=1\n",
    "while r_i < 32:\n",
    "    \n",
    "    region=data.xpath(f'/html/body/article/table/tbody{[r_i]}/tr/td[1]/a/span/text()')\n",
    "    census=data.xpath(f'/html/body/article/table/tbody{[r_i]}/tr/td[3]/text()')\n",
    "    projected_pop=data.xpath(f'/html/body/article/table/tbody{[r_i]}/tr/td[4]/text()')\n",
    "    area=data.xpath(f'/html/body/article/table/tbody{[r_i]}/tr[2]/td/p[4]/span/text()')\n",
    "    \n",
    "\n",
    "    \n",
    "    regions.append(region[0])\n",
    "    cen_pop.append(census[0])\n",
    "    proj_pop.append(projected_pop[0])\n",
    "    area_size.append(area)\n",
    "    r_i+=2\n",
    "\n",
    "print(regions)"
   ]
  },
  {
   "cell_type": "code",
   "execution_count": 213,
   "metadata": {},
   "outputs": [
    {
     "name": "stdout",
     "output_type": "stream",
     "text": [
      "           Region   Census  Projected\n",
      "0           Ahafo   484210     613049\n",
      "1         Ashanti  4780380    5924498\n",
      "2            Bono   922617    1168807\n",
      "3       Bono East   904156    1133768\n",
      "4         Central  2201863    2605492\n",
      "5         Eastern  2633154    3318853\n",
      "6   Greater Accra  4010054    5055883\n",
      "7      North East   465005     588800\n",
      "8        Northern  1544946    1948913\n",
      "9             Oti   605725     759799\n",
      "10       Savannah   469510     594712\n",
      "11     Upper East  1046545    1302718\n",
      "12     Upper West   702110     868479\n",
      "13          Volta  1512527    1907679\n",
      "14        Western  1664586    2214660\n",
      "15  Western North   711435     949094\n"
     ]
    }
   ],
   "source": [
    "#create dataframe from data\n",
    "\n",
    "reg_pop = pd.DataFrame({'Region':regions, 'Census':cen_pop, 'Projected':proj_pop})\n",
    "reg_pop=reg_pop.replace(',','', regex=True)\n",
    "reg_pop[['Census', 'Projected']]=reg_pop[['Census', 'Projected']].astype('int64')\n",
    "print(reg_pop)\n",
    "\n",
    "#reg_pop.to_csv('Population_by_Region_(GH).csv', index=False)"
   ]
  },
  {
   "cell_type": "code",
   "execution_count": 7,
   "metadata": {
    "tags": []
   },
   "outputs": [],
   "source": [
    "#transform the data using melt so both populations can do a grouped graph\n",
    "\n",
    "#newreg_pop = pd.melt(reg_pop, id_vars='Region', var_name='Type', value_name='Population')"
   ]
  },
  {
   "cell_type": "markdown",
   "metadata": {},
   "source": [
    "<h2><b>DISTRICTS DATA</b></h2>"
   ]
  },
  {
   "cell_type": "code",
   "execution_count": 178,
   "metadata": {},
   "outputs": [],
   "source": [
    "districts=[]\n",
    "dist_cen_pop=[]\n",
    "dist_proj_pop=[]\n",
    "status=[]"
   ]
  },
  {
   "cell_type": "code",
   "execution_count": 209,
   "metadata": {},
   "outputs": [],
   "source": [
    "districts=[]\n",
    "dist_cen_pop=[]\n",
    "dist_proj_pop=[]\n",
    "status=[]\n",
    "\n",
    "dbi=2\n",
    "while dbi<33:\n",
    "    \n",
    "    district=data.xpath(f'/html/body/article/table/tbody{[dbi]}/tr/td/a/span/text()')\n",
    "    census=data.xpath(f'/html/body/article/table/tbody{[dbi]}/tr/td[3]/text()')\n",
    "    proj_pop=data.xpath(f'/html/body/article/table/tbody{[dbi]}/tr/td[4]/text()')\n",
    "    dist_type=data.xpath(f'/html/body/article/table/tbody{[dbi]}/tr/td[2]/text()')\n",
    "    \n",
    "    for dist in district:\n",
    "        districts.append(dist)\n",
    "    for popn1 in census:\n",
    "        dist_cen_pop.append(popn1)\n",
    "    for popn2 in proj_pop:\n",
    "        dist_proj_pop.append(popn2)\n",
    "    for type in dist_type:\n",
    "        status.append(type)\n",
    "    dbi+=2"
   ]
  },
  {
   "cell_type": "code",
   "execution_count": 215,
   "metadata": {
    "tags": []
   },
   "outputs": [
    {
     "name": "stdout",
     "output_type": "stream",
     "text": [
      "                    District              Status  Census  Projected\n",
      "0    Asunafo North Municipal  Municipal District  124685     157870\n",
      "1              Asunafo South            District   95580     120976\n",
      "2              Asutifi North            District   52259      66141\n",
      "3              Asutifi South            District   53584      67763\n",
      "4       Tano North Municipal  Municipal District   79973     101305\n",
      "..                       ...                 ...     ...        ...\n",
      "255                     Bodi            District   53314      71133\n",
      "256                  Juabeso            District   58435      77963\n",
      "257         Sefwi Akontombra            District   82467     109868\n",
      "258   Sefwi Wiawso Municipal  Municipal District  139200     185826\n",
      "259                   Suaman            District   20529      27370\n",
      "\n",
      "[260 rows x 4 columns]\n"
     ]
    }
   ],
   "source": [
    "dist_pop=pd.DataFrame(data={'District':districts, 'Status':status, 'Census':dist_cen_pop, 'Projected':dist_proj_pop})\n",
    "dist_pop.replace(',','',regex=True,inplace=True)\n",
    "dist_pop[['Census', 'Projected']]=dist_pop[['Census','Projected']].astype('int64')\n",
    "print(dist_pop)\n",
    "#dist_pop.to_csv('Population_by_District_(GH).csv', index=False)"
   ]
  }
 ],
 "metadata": {
  "kernelspec": {
   "display_name": "Python 3",
   "language": "python",
   "name": "python3"
  },
  "language_info": {
   "codemirror_mode": {
    "name": "ipython",
    "version": 3
   },
   "file_extension": ".py",
   "mimetype": "text/x-python",
   "name": "python",
   "nbconvert_exporter": "python",
   "pygments_lexer": "ipython3",
   "version": "3.8.6"
  }
 },
 "nbformat": 4,
 "nbformat_minor": 5
}
