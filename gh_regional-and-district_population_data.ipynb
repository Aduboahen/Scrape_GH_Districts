{
  "cells": [
    {
      "cell_type": "raw",
      "metadata": {},
      "source": [
        "---\n",
        "title: 'Scrape Ghana Districts data from https://www.citypopulation.de'\n",
        "editor_options:\n",
        "  chunk_output_type: inline\n",
        "---"
      ],
      "id": "8f3fdfff"
    },
    {
      "cell_type": "code",
      "metadata": {
        "tags": []
      },
      "source": [
        "import bs4\n",
        "import requests\n",
        "from lxml import html\n",
        "import pandas as pd\n",
        "from pprint import pprint\n",
        "import numpy as np\n",
        "\n",
        "# pd.set_option('display.max_columns', 10) \n",
        "# pd.set_option('display.max_rows', 500) "
      ],
      "id": "f6f49c55",
      "execution_count": null,
      "outputs": []
    },
    {
      "cell_type": "code",
      "metadata": {},
      "source": [
        "#get web data\n",
        "\n",
        "#link for web data\n",
        "url=\"https://www.citypopulation.de/en/ghana/admin/\"\n",
        "\n",
        "res=requests.get(url)\n",
        "res.raise_for_status() #check if link is valid"
      ],
      "id": "c48fff2b",
      "execution_count": null,
      "outputs": []
    },
    {
      "cell_type": "markdown",
      "metadata": {},
      "source": [
        "<h1><b>BEAUTIFULSOUP</b></h1>\n"
      ],
      "id": "b703d180"
    },
    {
      "cell_type": "code",
      "metadata": {},
      "source": [
        "#parse web data using bs4\n",
        "\n",
        "data=bs4.BeautifulSoup(res.content, 'html.parser')"
      ],
      "id": "736efaa1",
      "execution_count": null,
      "outputs": []
    },
    {
      "cell_type": "code",
      "metadata": {},
      "source": [
        "# get table columns which should be marked with table head tag 'th'\n",
        "\n",
        "head = data.find_all('th')\n",
        "\n",
        "columns=[]\n",
        "\n",
        "for td in head:\n",
        "    columns.append(td.text)\n",
        "\n",
        "columns=columns[:4]\n",
        "pprint(columns)"
      ],
      "id": "eab26f5c",
      "execution_count": null,
      "outputs": []
    },
    {
      "cell_type": "code",
      "metadata": {},
      "source": [
        "body = data.find_all('tbody')\n",
        "\n",
        "\n",
        "body_rows=[]\n",
        "\n",
        "for tr in body:\n",
        "    td = tr.find_all(['th', 'td'])\n",
        "    row = [i.text for i in td]\n",
        "    body_rows.append(row)\n",
        "body_rows = body_rows[:len(body_rows)-4]\n",
        "pprint(len(body_rows)"
      ],
      "id": "b6a146ce",
      "execution_count": null,
      "outputs": []
    },
    {
      "cell_type": "markdown",
      "metadata": {},
      "source": [
        "<h2><b>REGIONAL DATA</b></h2>\n"
      ],
      "id": "67c2c078"
    },
    {
      "cell_type": "code",
      "metadata": {
        "tags": []
      },
      "source": [
        "regions = []\n",
        "i = 0\n",
        "while i < len(body_rows):\n",
        "    regions.append(body_rows[i])\n",
        "    i+=2\n",
        "\n",
        "del regions[-1]\n",
        "\n",
        "print(regions) "
      ],
      "id": "acc5e595",
      "execution_count": null,
      "outputs": []
    },
    {
      "cell_type": "code",
      "metadata": {},
      "source": [
        "regcolumns=columns.copy()\n",
        "regcolumns.append('Misc')"
      ],
      "id": "4c4a681d",
      "execution_count": null,
      "outputs": []
    },
    {
      "cell_type": "code",
      "metadata": {
        "tags": []
      },
      "source": [
        "df = pd.DataFrame(regions, columns=regcolumns)\n",
        "df = df.drop(df[['Misc', 'Status']],axis=1)\n",
        "df.columns = ['Region', 'Census(2010)', 'Census(2021)']\n",
        "df.replace(',','',regex=True,inplace=True)\n",
        "df[['Census(2010)', 'Census(2021)']]=df[['Census(2010)','Census(2021)']].astype('int64')\n",
        "df"
      ],
      "id": "fd64a42e",
      "execution_count": null,
      "outputs": []
    },
    {
      "cell_type": "markdown",
      "metadata": {},
      "source": [
        "<h2><b>DISTRICTS DATA</b></h2>\n"
      ],
      "id": "f6d881b8"
    },
    {
      "cell_type": "code",
      "metadata": {},
      "source": [
        "district_row = []\n",
        "\n",
        "i = 1\n",
        "while i < len(body_rows):\n",
        "    district_row.append(body_rows[i])\n",
        "    i+=2\n",
        "del district_row[-1]\n",
        "print(len(district_row))"
      ],
      "id": "19579321",
      "execution_count": null,
      "outputs": []
    },
    {
      "cell_type": "code",
      "metadata": {},
      "source": [
        "# district_row = []\n",
        "# \n",
        "# i = 1\n",
        "# while i < len(body_rows):\n",
        "#     district_row.append(body_rows[i])\n",
        "#     i+=2\n",
        "# pprint(district_row)"
      ],
      "id": "c091fd0a",
      "execution_count": null,
      "outputs": []
    },
    {
      "cell_type": "code",
      "metadata": {},
      "source": [
        "district = []\n",
        "status = []\n",
        "Census(2010) = []\n",
        "Census(2021) = []"
      ],
      "id": "2afdc432",
      "execution_count": null,
      "outputs": []
    },
    {
      "cell_type": "code",
      "metadata": {},
      "source": [
        "for row in district_row:\n",
        "    j=0\n",
        "    while j < len(row):\n",
        "        district.append(row[j])\n",
        "        j+=5\n",
        "pprint(len(district))"
      ],
      "id": "2ef568fb",
      "execution_count": null,
      "outputs": []
    },
    {
      "cell_type": "code",
      "metadata": {},
      "source": [
        "for row in district_row:\n",
        "    j=1\n",
        "    while j < len(row):\n",
        "        status.append(row[j])\n",
        "        j+=5\n",
        "pprint(len(status))"
      ],
      "id": "09bb28c6",
      "execution_count": null,
      "outputs": []
    },
    {
      "cell_type": "code",
      "metadata": {},
      "source": [
        "for row in district_row:\n",
        "    j=2\n",
        "    while j < len(row):\n",
        "        Census(2010).append(row[j])\n",
        "        j+=5\n",
        "pprint(len(Census(2010)))"
      ],
      "id": "4917d977",
      "execution_count": null,
      "outputs": []
    },
    {
      "cell_type": "code",
      "metadata": {},
      "source": [
        "for row in district_row:\n",
        "    j=3\n",
        "    while j < len(row):\n",
        "        Census(2021).append(row[j]) \n",
        "        j+=5\n",
        "pprint(len(Census(2021)))"
      ],
      "id": "cd127f69",
      "execution_count": null,
      "outputs": []
    },
    {
      "cell_type": "code",
      "metadata": {},
      "source": [
        "#| error: false\n",
        "#| warning: false\n",
        "\n",
        "\n",
        "df=pd.DataFrame(data={'District':district, 'Status':status, 'Census(2010)':Census(2010), 'Census(2021)':Census(2021)})\n",
        "df.replace(',','',regex=True,inplace=True)\n",
        "df[['Census(2010)', 'Census(2021)']] = df[['Census(2010)', 'Census(2021)']].replace(\"...\", np.NaN)\n",
        "df[['Census(2010)', 'Census(2021)']]=df[['Census(2010)','Census(2021)']].astype('int64')\n",
        "pprint(df)"
      ],
      "id": "a922e968",
      "execution_count": null,
      "outputs": []
    },
    {
      "cell_type": "markdown",
      "metadata": {},
      "source": [
        "<h2><b>NATIONAL</b></h2>\n"
      ],
      "id": "623b59e8"
    },
    {
      "cell_type": "code",
      "metadata": {
        "tags": []
      },
      "source": [
        "country=data.find_all('tbody', class_=\"admin0\")\n",
        "td=country[0].find_all('td')\n",
        "\n",
        "country=[]\n",
        "for i in range(len(td)-1):\n",
        "    if i>=2:\n",
        "        country.append(td[i].text)\n",
        "#country"
      ],
      "id": "5271dbec",
      "execution_count": null,
      "outputs": []
    },
    {
      "cell_type": "code",
      "metadata": {},
      "source": [
        "df=pd.DataFrame([country], columns=['Total Population (2010 Census(2010))', 'Census(2021) Population(2020)'])\n",
        "df"
      ],
      "id": "935e3e38",
      "execution_count": null,
      "outputs": []
    },
    {
      "cell_type": "code",
      "metadata": {},
      "source": [
        "#scrape population distribution data for Ghana\n",
        "\n",
        "details=data.find_all(class_='addinfo') "
      ],
      "id": "78469349",
      "execution_count": null,
      "outputs": []
    },
    {
      "cell_type": "code",
      "metadata": {},
      "source": [
        "#add distribution table values to \n",
        "\n",
        "data1=[]\n",
        "data2=[]\n",
        "\n",
        "for i in range(len(details)):\n",
        "    section=details[i].find_all('td')\n",
        "    for j in range(len(section)):\n",
        "        if j%2==0:\n",
        "            data1.append(section[j].text)\n",
        "        else:\n",
        "            data2.append(section[j].text)"
      ],
      "id": "645c2139",
      "execution_count": null,
      "outputs": []
    },
    {
      "cell_type": "code",
      "metadata": {},
      "source": [
        "pop_dist={}\n",
        "\n",
        "#add the column headings and values to dictionary newdata\n",
        "for col in data1:\n",
        "    for pop in data2:\n",
        "        pop_dist[col]=pop"
      ],
      "id": "3cf0a37b",
      "execution_count": null,
      "outputs": []
    },
    {
      "cell_type": "code",
      "metadata": {},
      "source": [
        "#create dataframe from dictionary\n",
        "\n",
        "df = pd.DataFrame([pop_dist])\n",
        "#df.reset_index(drop=True, inplace=True)\n",
        "\n",
        "\n",
        "#remove , from values\n",
        "df=df.replace(',', '',regex=True)\n",
        "\n",
        "\n",
        "#convert all value to interger\n",
        "df[list(df.columns)] = df[list(df.columns)].astype('int64')\n",
        "df"
      ],
      "id": "1fe29bdd",
      "execution_count": null,
      "outputs": []
    },
    {
      "cell_type": "code",
      "metadata": {},
      "source": [
        "#df = df.append(newdata, ignore_index=True)\n",
        "#df"
      ],
      "id": "40425182",
      "execution_count": null,
      "outputs": []
    },
    {
      "cell_type": "code",
      "metadata": {},
      "source": [
        "#create dataframe from dictionary with list values using Series\n",
        "\n",
        "#columns=['Gender', 'Gender Pop', 'Age Group', 'Age Group Pop', 'Age Distribution', 'Age Distribution Pop' ]\n",
        "\n",
        "#df2=pd.DataFrame({columns[0]:pd.Series(data1[0:2]), columns[1]:pd.Series(data2[0:2]), columns[2]:pd.Series(data1[2:5]),columns[3]:pd.Series(data2[2:5]), columns[4]:pd.Series(data1[5:]),columns[5]:pd.Series(data2[5:])})\n",
        "#df2.fillna('')"
      ],
      "id": "3c422046",
      "execution_count": null,
      "outputs": []
    },
    {
      "cell_type": "code",
      "metadata": {},
      "source": [
        "#create dataframe from dictionary with list values using from_list\n",
        "\n",
        "#df3=pd.DataFrame.from_dict({columns[0]:data1[0:2], columns[1]:data2[0:2], columns[2]:data1[2:5], \n",
        "                            #columns[3]:data2[2:5], columns[4]:data1[5:],columns[5]:data2[5:]}, orient='index').T\n",
        "#df3.fillna('')"
      ],
      "id": "c7b0cea5",
      "execution_count": null,
      "outputs": []
    },
    {
      "cell_type": "markdown",
      "metadata": {},
      "source": [
        "<h1><b>LXML</b></h1>\n"
      ],
      "id": "5b0c4297"
    },
    {
      "cell_type": "code",
      "metadata": {},
      "source": [
        "data=html.fromstring(res.content)"
      ],
      "id": "0022d34b",
      "execution_count": null,
      "outputs": []
    },
    {
      "cell_type": "markdown",
      "metadata": {},
      "source": [
        "<h2><b>REGIONAL DATA</b></h2>\n"
      ],
      "id": "6c8cb265"
    },
    {
      "cell_type": "code",
      "metadata": {
        "tags": []
      },
      "source": [
        "#scrape using xpath(get this from inspecting the page and copying the full xpath\n",
        "regions=[] \n",
        "cen_pop=[]\n",
        "proj_pop=[]\n",
        "area_size=[]\n",
        "\n",
        "r_i=1\n",
        "while r_i < 32:\n",
        "    \n",
        "    region=data.xpath(f'/html/body/article/table/tbody{[r_i]}/tr/td[1]/a/span/text()')\n",
        "    Census(2010)=data.xpath(f'/html/body/article/table/tbody{[r_i]}/tr/td[3]/text()')\n",
        "    Census(2021)_pop=data.xpath(f'/html/body/article/table/tbody{[r_i]}/tr/td[4]/text()')\n",
        "    area=data.xpath(f'/html/body/article/table/tbody{[r_i]}/tr[2]/td/p[4]/span/text()')\n",
        "    \n",
        "\n",
        "    \n",
        "    regions.append(region[0])\n",
        "    cen_pop.append(Census(2010)[0])\n",
        "    proj_pop.append(Census(2021)_pop[0])\n",
        "    area_size.append(area)\n",
        "    r_i+=2\n",
        "\n",
        "pprint(regions)"
      ],
      "id": "a9a59a6d",
      "execution_count": null,
      "outputs": []
    },
    {
      "cell_type": "code",
      "metadata": {},
      "source": [
        "#create dataframe from data\n",
        "\n",
        "reg_pop = pd.DataFrame({'Region':regions, 'Census(2010)':cen_pop, 'Census(2021)':proj_pop})\n",
        "reg_pop=reg_pop.replace(',','', regex=True)\n",
        "reg_pop[['Census(2010)', 'Census(2021)']]=reg_pop[['Census(2010)', 'Census(2021)']].astype('int64')\n",
        "reg_pop\n",
        "\n",
        "#reg_pop.to_csv('Population_by_Region_(GH).csv', index=False)"
      ],
      "id": "81ed63dd",
      "execution_count": null,
      "outputs": []
    },
    {
      "cell_type": "code",
      "metadata": {
        "tags": []
      },
      "source": [
        "#transform the data using melt so both populations can do a grouped graph\n",
        "\n",
        "#newreg_pop = pd.melt(reg_pop, id_vars='Region', var_name='Type', value_name='Population')"
      ],
      "id": "adcb038d",
      "execution_count": null,
      "outputs": []
    },
    {
      "cell_type": "markdown",
      "metadata": {},
      "source": [
        "<h2><b>DISTRICTS DATA</b></h2>\n"
      ],
      "id": "ce9f8413"
    },
    {
      "cell_type": "code",
      "metadata": {},
      "source": [
        "districts=[]\n",
        "dist_cen_pop=[]\n",
        "dist_proj_pop=[]\n",
        "status=[]"
      ],
      "id": "0fdb7a8b",
      "execution_count": null,
      "outputs": []
    },
    {
      "cell_type": "code",
      "metadata": {},
      "source": [
        "districts=[]\n",
        "dist_cen_pop=[]\n",
        "dist_proj_pop=[]\n",
        "status=[]\n",
        "\n",
        "dbi=2\n",
        "while dbi<33:\n",
        "    \n",
        "    district=data.xpath(f'/html/body/article/table/tbody{[dbi]}/tr/td/a/span/text()')\n",
        "    Census(2010)=data.xpath(f'/html/body/article/table/tbody{[dbi]}/tr/td[3]/text()')\n",
        "    proj_pop=data.xpath(f'/html/body/article/table/tbody{[dbi]}/tr/td[4]/text()')\n",
        "    dist_type=data.xpath(f'/html/body/article/table/tbody{[dbi]}/tr/td[2]/text()')\n",
        "    \n",
        "    for dist in district:\n",
        "        districts.append(dist)\n",
        "    for popn1 in Census(2010):\n",
        "        dist_cen_pop.append(popn1)\n",
        "    for popn2 in proj_pop:\n",
        "        dist_proj_pop.append(popn2)\n",
        "    for stat in dist_type:\n",
        "        status.append(stat)\n",
        "    dbi+=2"
      ],
      "id": "30fd8f48",
      "execution_count": null,
      "outputs": []
    },
    {
      "cell_type": "code",
      "metadata": {
        "tags": []
      },
      "source": [
        "dist_pop=pd.DataFrame(data={'District':districts, 'Status':status, 'Census(2010)':dist_cen_pop, 'Census(2021)':dist_proj_pop})\n",
        "dist_pop.replace(',','',regex=True,inplace=True)\n",
        "dist_pop[['Census(2010)', 'Census(2021)']]=dist_pop[['Census(2010)','Census(2021)']].astype('int64')\n",
        "dist_pop\n",
        "#dist_pop.to_csv('Population_by_District_(GH).csv', index=False)"
      ],
      "id": "2bc90872",
      "execution_count": null,
      "outputs": []
    },
    {
      "cell_type": "code",
      "metadata": {},
      "source": [
        "country=data.xpath('/html/body/article/table/tbody[33]/tr/td[1]/text()')\n",
        "Census(2010)=data.xpath('/html/body/article/table/tbody[33]/tr/td[3]/text()')\n",
        "Census(2021)=data.xpath('/html/body/article/table/tbody[33]/tr/td[4]/text()')"
      ],
      "id": "a1a2e838",
      "execution_count": null,
      "outputs": []
    }
  ],
  "metadata": {
    "kernelspec": {
      "name": "python3",
      "language": "python",
      "display_name": "Python 3 (ipykernel)"
    }
  },
  "nbformat": 4,
  "nbformat_minor": 5
}